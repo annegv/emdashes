{
 "cells": [
  {
   "cell_type": "code",
   "execution_count": 26,
   "id": "cb3d033f",
   "metadata": {},
   "outputs": [],
   "source": [
    "import decimal"
   ]
  },
  {
   "cell_type": "code",
   "execution_count": 28,
   "id": "e04a126d",
   "metadata": {},
   "outputs": [
    {
     "name": "stdout",
     "output_type": "stream",
     "text": [
      "4\n",
      "311\n",
      "77.8\n",
      "4\n",
      "417\n",
      "104.2\n"
     ]
    }
   ],
   "source": [
    "text1 = \"The producer oversees the show. You will answer to and work with MTG Exec and everyone in the show answers to you. You have final say on most everything and are the ultimate mediator in conflicts. This is a managerial position more than a creative one, as the producer makes sure the show happens behind the scenes.\"\n",
    "text2 = \"The Trail to Oregon! is an original musical produced by Starkid Productions and was performed in Chicago in the summer of 2014. It is also the most historically accurate musical portraying the Oregon Trail to date; featuring 12 educational songs, a set precisely replicating the trail’s landscape, and appearances from famous historical figures, such as: Henry McDoon, Cletus Jones, and Cornwallis.  Watch it if you want.\"\n",
    "\n",
    "# add a line to the dictionary every time you have a new line to compare\n",
    "sentence_split = {text1 : {None}, text2: {None}}\n",
    "\n",
    "\n",
    "\n",
    "# returns a list of lists (sentences listed, characters listed within each sentence)\n",
    "def returnsentences(body_text):\n",
    "    sentence_text = []\n",
    "    next_sentence = []\n",
    "    for char in body_text:\n",
    "        if (char != \".\") and (char != \"!\") and (char != \"?\"):\n",
    "            next_sentence.append(char)\n",
    "        else:\n",
    "            sentence_text.append(next_sentence)\n",
    "            next_sentence = []\n",
    "            \n",
    "    return sentence_text\n",
    "\n",
    "# calculates the average length of a sentence in a body of text\n",
    "def calclength(sentence_text):\n",
    "    num_sentences = len(sentence_text)\n",
    "    chars = 0\n",
    "    for sent in sentence_text:\n",
    "        chars += len(sent)\n",
    "        \n",
    "    print(num_sentences)\n",
    "    print(chars)\n",
    "    return round(chars / num_sentences, 1)\n",
    "        \n",
    "\n",
    "            \n",
    "for body in sentence_split.keys():\n",
    "    sentence_split[body] = returnsentences(body)\n",
    "    \n",
    "print(calclength(returnsentences(text1)))\n",
    "print(calclength(returnsentences(text2)))"
   ]
  },
  {
   "cell_type": "code",
   "execution_count": null,
   "id": "778a92f5",
   "metadata": {},
   "outputs": [],
   "source": []
  }
 ],
 "metadata": {
  "kernelspec": {
   "display_name": "Python 3",
   "language": "python",
   "name": "python3"
  },
  "language_info": {
   "codemirror_mode": {
    "name": "ipython",
    "version": 3
   },
   "file_extension": ".py",
   "mimetype": "text/x-python",
   "name": "python",
   "nbconvert_exporter": "python",
   "pygments_lexer": "ipython3",
   "version": "3.8.8"
  }
 },
 "nbformat": 4,
 "nbformat_minor": 5
}
